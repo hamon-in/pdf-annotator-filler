{
 "cells": [
  {
   "cell_type": "markdown",
   "metadata": {},
   "source": [
    "# Imports"
   ]
  },
  {
   "cell_type": "code",
   "execution_count": 10,
   "metadata": {},
   "outputs": [
    {
     "ename": "ImportError",
     "evalue": "No module named pandas",
     "output_type": "error",
     "traceback": [
      "\u001b[0;31m---------------------------------------------------------------------------\u001b[0m",
      "\u001b[0;31mImportError\u001b[0m                               Traceback (most recent call last)",
      "\u001b[0;32m<ipython-input-10-3f0a5e8feff8>\u001b[0m in \u001b[0;36m<module>\u001b[0;34m()\u001b[0m\n\u001b[0;32m----> 1\u001b[0;31m \u001b[0;32mimport\u001b[0m \u001b[0mpandas\u001b[0m \u001b[0;32mas\u001b[0m \u001b[0mpd\u001b[0m\u001b[0;34m\u001b[0m\u001b[0m\n\u001b[0m\u001b[1;32m      2\u001b[0m \u001b[0;32mimport\u001b[0m \u001b[0mmatplotlib\u001b[0m\u001b[0;34m.\u001b[0m\u001b[0mpyplot\u001b[0m \u001b[0;32mas\u001b[0m \u001b[0mplt\u001b[0m\u001b[0;34m\u001b[0m\u001b[0m\n\u001b[1;32m      3\u001b[0m \u001b[0;32mimport\u001b[0m \u001b[0mmatplotlib\u001b[0m\u001b[0;34m.\u001b[0m\u001b[0mimage\u001b[0m \u001b[0;32mas\u001b[0m \u001b[0mmpimg\u001b[0m\u001b[0;34m\u001b[0m\u001b[0m\n\u001b[1;32m      4\u001b[0m \u001b[0;32mimport\u001b[0m \u001b[0mnumpy\u001b[0m \u001b[0;32mas\u001b[0m \u001b[0mnp\u001b[0m\u001b[0;34m\u001b[0m\u001b[0m\n\u001b[1;32m      5\u001b[0m \u001b[0;32mimport\u001b[0m \u001b[0mcv2\u001b[0m\u001b[0;34m\u001b[0m\u001b[0m\n",
      "\u001b[0;31mImportError\u001b[0m: No module named pandas"
     ]
    }
   ],
   "source": [
    "import pandas as pd\n",
    "import matplotlib.pyplot as plt\n",
    "import matplotlib.image as mpimg\n",
    "import numpy as np\n",
    "import cv2\n",
    "from PIL import Image\n",
    "from PIL import ImageFilter\n",
    "import matplotlib as mpl\n",
    "from PyPDF2 import PdfFileWriter, PdfFileReader\n",
    "import io\n",
    "from reportlab.pdfgen import canvas\n",
    "from reportlab.lib.pagesizes import letter,A4\n",
    "%matplotlib inline"
   ]
  },
  {
   "cell_type": "code",
   "execution_count": null,
   "metadata": {},
   "outputs": [],
   "source": []
  },
  {
   "cell_type": "code",
   "execution_count": null,
   "metadata": {},
   "outputs": [],
   "source": []
  },
  {
   "cell_type": "markdown",
   "metadata": {},
   "source": [
    "# GST RFD 11"
   ]
  },
  {
   "cell_type": "code",
   "execution_count": 18,
   "metadata": {},
   "outputs": [],
   "source": [
    "DICT={\n",
    "    \"name\": \"FORM-GST-RFD-11.pdf\",\n",
    "    \"zones\":\n",
    "    {\n",
    "        \"GSTIN\": [286,730,516,711],\n",
    "        \"Name\": [287,709,515,693],\n",
    "        \"TypeBond\": [325,687,351,674],\n",
    "        \"TypeLetter\": [471,687,498,672],\n",
    "        \"BondDetails\": [182,669,515,652],\n",
    "        \"SrNoRow1\": [71,605,111,589],\n",
    "        \"RefRow1\": [115,604,287,589],\n",
    "        \"DateRow1\": [291,604,354,588],\n",
    "        \"AmtRow1\": [358,605,422,586],\n",
    "        \"BranchRow1\": [425,605,516,587],\n",
    "        \"SrRow2\": [71,586,112,567],\n",
    "        \"RefRow2\": [115,586,287,568],\n",
    "        \"DateRow2\": [290,584,354,568],\n",
    "        \"AmtRow2\": [358,584,422,568],\n",
    "        \"BranchRow2\": [424,585,515,569],\n",
    "        \"SrNoRow3\": [70,566,113,549],\n",
    "        \"RefRow3\": [115,566,287,550],\n",
    "        \"DateRow3\": [290,566,354,549],\n",
    "        \"AmtRow3\": [357,565,422,549],\n",
    "        \"BranchRow3\": [425,565,514,549],\n",
    "        \"NameSign\": [359,359,589,344],\n",
    "        \"Status\": [416,341,590,331],\n",
    "        \"Date\": [354,326,415,315],\n",
    "    }\n",
    "}"
   ]
  },
  {
   "cell_type": "code",
   "execution_count": 19,
   "metadata": {},
   "outputs": [
    {
     "data": {
      "text/plain": [
       "{'name': 'FORM-GST-RFD-11.pdf',\n",
       " 'zones': {'GSTIN': [286, 730, 516, 711],\n",
       "  'Name': [287, 709, 515, 693],\n",
       "  'TypeBond': [325, 687, 351, 674],\n",
       "  'TypeLetter': [471, 687, 498, 672],\n",
       "  'BondDetails': [182, 669, 515, 652],\n",
       "  'SrNoRow1': [71, 605, 111, 589],\n",
       "  'RefRow1': [115, 604, 287, 589],\n",
       "  'DateRow1': [291, 604, 354, 588],\n",
       "  'AmtRow1': [358, 605, 422, 586],\n",
       "  'BranchRow1': [425, 605, 516, 587],\n",
       "  'SrRow2': [71, 586, 112, 567],\n",
       "  'RefRow2': [115, 586, 287, 568],\n",
       "  'DateRow2': [290, 584, 354, 568],\n",
       "  'AmtRow2': [358, 584, 422, 568],\n",
       "  'BranchRow2': [424, 585, 515, 569],\n",
       "  'SrNoRow3': [70, 566, 113, 549],\n",
       "  'RefRow3': [115, 566, 287, 550],\n",
       "  'DateRow3': [290, 566, 354, 549],\n",
       "  'AmtRow3': [357, 565, 422, 549],\n",
       "  'BranchRow3': [425, 565, 514, 549],\n",
       "  'NameSign': [359, 359, 589, 344],\n",
       "  'Status': [416, 341, 590, 331],\n",
       "  'Date': [354, 326, 415, 315]}}"
      ]
     },
     "execution_count": 19,
     "metadata": {},
     "output_type": "execute_result"
    }
   ],
   "source": [
    "DICT"
   ]
  },
  {
   "cell_type": "markdown",
   "metadata": {},
   "source": [
    "# Filling"
   ]
  },
  {
   "cell_type": "code",
   "execution_count": 20,
   "metadata": {},
   "outputs": [
    {
     "data": {
      "text/plain": [
       "{'name': 'FORM-GST-RFD-11.pdf',\n",
       " 'zones': {'GSTIN': [286, 730, 516, 711],\n",
       "  'Name': [287, 709, 515, 693],\n",
       "  'TypeBond': [325, 687, 351, 674],\n",
       "  'TypeLetter': [471, 687, 498, 672],\n",
       "  'BondDetails': [182, 669, 515, 652],\n",
       "  'SrNoRow1': [71, 605, 111, 589],\n",
       "  'RefRow1': [115, 604, 287, 589],\n",
       "  'DateRow1': [291, 604, 354, 588],\n",
       "  'AmtRow1': [358, 605, 422, 586],\n",
       "  'BranchRow1': [425, 605, 516, 587],\n",
       "  'SrRow2': [71, 586, 112, 567],\n",
       "  'RefRow2': [115, 586, 287, 568],\n",
       "  'DateRow2': [290, 584, 354, 568],\n",
       "  'AmtRow2': [358, 584, 422, 568],\n",
       "  'BranchRow2': [424, 585, 515, 569],\n",
       "  'SrNoRow3': [70, 566, 113, 549],\n",
       "  'RefRow3': [115, 566, 287, 550],\n",
       "  'DateRow3': [290, 566, 354, 549],\n",
       "  'AmtRow3': [357, 565, 422, 549],\n",
       "  'BranchRow3': [425, 565, 514, 549],\n",
       "  'NameSign': [359, 359, 589, 344],\n",
       "  'Status': [416, 341, 590, 331],\n",
       "  'Date': [354, 326, 415, 315]}}"
      ]
     },
     "execution_count": 20,
     "metadata": {},
     "output_type": "execute_result"
    }
   ],
   "source": [
    "DICT"
   ]
  },
  {
   "cell_type": "code",
   "execution_count": 21,
   "metadata": {},
   "outputs": [],
   "source": [
    "zones = DICT['zones']"
   ]
  },
  {
   "cell_type": "code",
   "execution_count": 22,
   "metadata": {},
   "outputs": [
    {
     "data": {
      "text/plain": [
       "{'name': 'FORM-GST-RFD-11.pdf',\n",
       " 'zones': {'GSTIN': [286, 730, 516, 711],\n",
       "  'Name': [287, 709, 515, 693],\n",
       "  'TypeBond': [325, 687, 351, 674],\n",
       "  'TypeLetter': [471, 687, 498, 672],\n",
       "  'BondDetails': [182, 669, 515, 652],\n",
       "  'SrNoRow1': [71, 605, 111, 589],\n",
       "  'RefRow1': [115, 604, 287, 589],\n",
       "  'DateRow1': [291, 604, 354, 588],\n",
       "  'AmtRow1': [358, 605, 422, 586],\n",
       "  'BranchRow1': [425, 605, 516, 587],\n",
       "  'SrRow2': [71, 586, 112, 567],\n",
       "  'RefRow2': [115, 586, 287, 568],\n",
       "  'DateRow2': [290, 584, 354, 568],\n",
       "  'AmtRow2': [358, 584, 422, 568],\n",
       "  'BranchRow2': [424, 585, 515, 569],\n",
       "  'SrNoRow3': [70, 566, 113, 549],\n",
       "  'RefRow3': [115, 566, 287, 550],\n",
       "  'DateRow3': [290, 566, 354, 549],\n",
       "  'AmtRow3': [357, 565, 422, 549],\n",
       "  'BranchRow3': [425, 565, 514, 549],\n",
       "  'NameSign': [359, 359, 589, 344],\n",
       "  'Status': [416, 341, 590, 331],\n",
       "  'Date': [354, 326, 415, 315]}}"
      ]
     },
     "execution_count": 22,
     "metadata": {},
     "output_type": "execute_result"
    }
   ],
   "source": [
    "DICT"
   ]
  },
  {
   "cell_type": "code",
   "execution_count": 26,
   "metadata": {},
   "outputs": [
    {
     "data": {
      "text/plain": [
       "{'GSTIN': [286, 730, 516, 711],\n",
       " 'Name': [287, 709, 515, 693],\n",
       " 'TypeBond': [325, 687, 351, 674],\n",
       " 'TypeLetter': [471, 687, 498, 672],\n",
       " 'BondDetails': [182, 669, 515, 652],\n",
       " 'SrNoRow1': [71, 605, 111, 589],\n",
       " 'RefRow1': [115, 604, 287, 589],\n",
       " 'DateRow1': [291, 604, 354, 588],\n",
       " 'AmtRow1': [358, 605, 422, 586],\n",
       " 'BranchRow1': [425, 605, 516, 587],\n",
       " 'SrRow2': [71, 586, 112, 567],\n",
       " 'RefRow2': [115, 586, 287, 568],\n",
       " 'DateRow2': [290, 584, 354, 568],\n",
       " 'AmtRow2': [358, 584, 422, 568],\n",
       " 'BranchRow2': [424, 585, 515, 569],\n",
       " 'SrNoRow3': [70, 566, 113, 549],\n",
       " 'RefRow3': [115, 566, 287, 550],\n",
       " 'DateRow3': [290, 566, 354, 549],\n",
       " 'AmtRow3': [357, 565, 422, 549],\n",
       " 'BranchRow3': [425, 565, 514, 549],\n",
       " 'NameSign': [359, 359, 589, 344],\n",
       " 'Status': [416, 341, 590, 331],\n",
       " 'Date': [354, 326, 415, 315]}"
      ]
     },
     "execution_count": 26,
     "metadata": {},
     "output_type": "execute_result"
    }
   ],
   "source": [
    "zones"
   ]
  },
  {
   "cell_type": "code",
   "execution_count": 23,
   "metadata": {},
   "outputs": [
    {
     "data": {
      "text/plain": [
       "(304, 740)"
      ]
     },
     "execution_count": 23,
     "metadata": {},
     "output_type": "execute_result"
    }
   ],
   "source": [
    "286+18, 730+10"
   ]
  },
  {
   "cell_type": "code",
   "execution_count": null,
   "metadata": {},
   "outputs": [],
   "source": []
  },
  {
   "cell_type": "markdown",
   "metadata": {},
   "source": [
    "# Basic code"
   ]
  },
  {
   "cell_type": "code",
   "execution_count": 32,
   "metadata": {},
   "outputs": [],
   "source": [
    "x,y  = 286, 730 # setting coords"
   ]
  },
  {
   "cell_type": "code",
   "execution_count": 33,
   "metadata": {},
   "outputs": [],
   "source": [
    "packet = io.BytesIO()\n",
    "# create a new PDF with Reportlab\n",
    "can = canvas.Canvas(packet)\n",
    "can.drawString(x,y, \"234567890\")\n",
    "can.save()\n"
   ]
  },
  {
   "cell_type": "code",
   "execution_count": 34,
   "metadata": {
    "scrolled": true
   },
   "outputs": [
    {
     "data": {
      "text/plain": [
       "(595.2755905511812, 841.8897637795277)"
      ]
     },
     "execution_count": 34,
     "metadata": {},
     "output_type": "execute_result"
    }
   ],
   "source": [
    "A4 # A4 size"
   ]
  },
  {
   "cell_type": "code",
   "execution_count": 35,
   "metadata": {},
   "outputs": [],
   "source": [
    "#move to the beginning of the StringIO buffer\n",
    "packet.seek(0)\n",
    "new_pdf = PdfFileReader(packet)"
   ]
  },
  {
   "cell_type": "code",
   "execution_count": 36,
   "metadata": {},
   "outputs": [],
   "source": [
    "# read your existing PDF\n",
    "existing_pdf = PdfFileReader(open(\"FORM-GST-RFD-11.pdf\", \"rb\"))\n",
    "output = PdfFileWriter()"
   ]
  },
  {
   "cell_type": "code",
   "execution_count": 37,
   "metadata": {},
   "outputs": [],
   "source": [
    "# add the \"watermark\" (which is the new pdf) on the existing page\n",
    "page = existing_pdf.getPage(0)\n",
    "page.mergePage(new_pdf.getPage(0))\n",
    "output.addPage(page)"
   ]
  },
  {
   "cell_type": "code",
   "execution_count": 38,
   "metadata": {},
   "outputs": [],
   "source": [
    "# finally, write \"output\" to a real file\n",
    "outputStream = open(\"destination.pdf\", \"wb\")\n",
    "output.write(outputStream)\n",
    "outputStream.close()"
   ]
  },
  {
   "cell_type": "code",
   "execution_count": 39,
   "metadata": {},
   "outputs": [
    {
     "data": {
      "text/plain": [
       "{'name': 'FORM-GST-RFD-11.pdf',\n",
       " 'zones': {'GSTIN': [286, 730, 516, 711],\n",
       "  'Name': [287, 709, 515, 693],\n",
       "  'TypeBond': [325, 687, 351, 674],\n",
       "  'TypeLetter': [471, 687, 498, 672],\n",
       "  'BondDetails': [182, 669, 515, 652],\n",
       "  'SrNoRow1': [71, 605, 111, 589],\n",
       "  'RefRow1': [115, 604, 287, 589],\n",
       "  'DateRow1': [291, 604, 354, 588],\n",
       "  'AmtRow1': [358, 605, 422, 586],\n",
       "  'BranchRow1': [425, 605, 516, 587],\n",
       "  'SrRow2': [71, 586, 112, 567],\n",
       "  'RefRow2': [115, 586, 287, 568],\n",
       "  'DateRow2': [290, 584, 354, 568],\n",
       "  'AmtRow2': [358, 584, 422, 568],\n",
       "  'BranchRow2': [424, 585, 515, 569],\n",
       "  'SrNoRow3': [70, 566, 113, 549],\n",
       "  'RefRow3': [115, 566, 287, 550],\n",
       "  'DateRow3': [290, 566, 354, 549],\n",
       "  'AmtRow3': [357, 565, 422, 549],\n",
       "  'BranchRow3': [425, 565, 514, 549],\n",
       "  'NameSign': [359, 359, 589, 344],\n",
       "  'Status': [416, 341, 590, 331],\n",
       "  'Date': [354, 326, 415, 315]}}"
      ]
     },
     "execution_count": 39,
     "metadata": {},
     "output_type": "execute_result"
    }
   ],
   "source": [
    "DICT"
   ]
  },
  {
   "cell_type": "markdown",
   "metadata": {},
   "source": [
    "# Code implementation for all of DICT"
   ]
  },
  {
   "cell_type": "code",
   "execution_count": 40,
   "metadata": {},
   "outputs": [],
   "source": [
    "packet_new = io.BytesIO()\n",
    "can_new = canvas.Canvas(packet_new)\n",
    "\n",
    "for i in DICT['zones']:\n",
    "    #print(i)\n",
    "    x1,y1 = DICT['zones'][i][0],DICT['zones'][i][1]-57\n",
    "    #print(x1,y1)\n",
    "    # create a new PDF with Reportlab\n",
    "    can_new.drawString(x1, y1, \"def\")\n",
    "can_new.save()\n",
    "\n",
    "\n",
    "    "
   ]
  },
  {
   "cell_type": "code",
   "execution_count": 41,
   "metadata": {},
   "outputs": [],
   "source": [
    "#move to the beginning of the StringIO buffer\n",
    "packet_new.seek(0)\n",
    "new_pdf = PdfFileReader(packet_new)"
   ]
  },
  {
   "cell_type": "code",
   "execution_count": 42,
   "metadata": {},
   "outputs": [],
   "source": [
    "# read your existing PDF\n",
    "existing_pdf = PdfFileReader(open(\"wrongpos.pdf\", \"rb\"))\n",
    "output = PdfFileWriter()"
   ]
  },
  {
   "cell_type": "code",
   "execution_count": 43,
   "metadata": {},
   "outputs": [],
   "source": [
    "# add the \"watermark\" (which is the new pdf) on the existing page\n",
    "page = existing_pdf.getPage(0)\n",
    "page.mergePage(new_pdf.getPage(0))\n",
    "output.addPage(page)"
   ]
  },
  {
   "cell_type": "code",
   "execution_count": 44,
   "metadata": {},
   "outputs": [],
   "source": [
    "# finally, write \"output\" to a real file\n",
    "outputStream = open(\"destination.pdf\", \"wb\")\n",
    "output.write(outputStream)\n",
    "outputStream.close()"
   ]
  },
  {
   "cell_type": "code",
   "execution_count": null,
   "metadata": {},
   "outputs": [],
   "source": []
  },
  {
   "cell_type": "code",
   "execution_count": null,
   "metadata": {},
   "outputs": [],
   "source": []
  },
  {
   "cell_type": "markdown",
   "metadata": {},
   "source": [
    "# Text out of readable pdf"
   ]
  },
  {
   "cell_type": "code",
   "execution_count": 302,
   "metadata": {},
   "outputs": [
    {
     "name": "stdout",
     "output_type": "stream",
     "text": [
      "LTTextBoxHorizontal\n",
      "(271.13, 759.48864, 363.04, 768.38292)\n",
      "FORM GST RFD-11 \n",
      "\n",
      "LTTextBoxHorizontal\n",
      "(286.37, 747.9486400000001, 347.8, 757.01224)\n",
      "[See rule 96A] \n",
      "\n",
      "LTTextBoxHorizontal\n",
      "(135.5, 725.62864, 460.27, 734.52292)\n",
      "Furnishing of bond or Letter of Undertaking for export of goods or services \n",
      "\n",
      "LTTextBoxHorizontal\n",
      "(77.904, 710.62864, 124.19, 720.03088)\n",
      "1.  GSTIN \n",
      "\n",
      "LTTextBoxHorizontal\n",
      "(77.904, 689.50864, 118.67, 698.91088)\n",
      "2.  Name \n",
      "\n",
      "LTTextBoxHorizontal\n",
      "(77.904, 668.38864, 254.54000000000002, 677.79088)\n",
      "3.  Indicate the type of document furnished \n",
      "\n",
      "LTTextBoxHorizontal\n",
      "(77.904, 647.50864, 196.70000000000002, 656.91088)\n",
      "4.  Details of bond furnished \n",
      "\n",
      "LTTextBoxHorizontal\n",
      "(305.95, 710.62864, 308.44, 719.68228)\n",
      " \n",
      "\n",
      "LTTextBoxHorizontal\n",
      "(305.95, 689.50864, 308.44, 698.56228)\n",
      " \n",
      "\n",
      "LTTextBoxHorizontal\n",
      "(305.95, 668.38864, 308.44, 677.44228)\n",
      " \n",
      "\n",
      "LTTextBoxHorizontal\n",
      "(314.47, 663.8286400000001, 341.44, 672.88228)\n",
      "Bond: \n",
      "\n",
      "LTTextBoxHorizontal\n",
      "(347.95, 663.8286400000001, 350.44, 672.88228)\n",
      " \n",
      "\n",
      "LTTextBoxHorizontal\n",
      "(381.91, 663.8286400000001, 467.47, 672.88228)\n",
      "Letter of Undertaking \n",
      "\n",
      "LTTextBoxHorizontal\n",
      "(504.46, 663.8286400000001, 506.95, 672.88228)\n",
      " \n",
      "\n",
      "LTTextBoxHorizontal\n",
      "(534.7, 663.8286400000001, 537.19, 672.88228)\n",
      " \n",
      "\n",
      "LTTextBoxHorizontal\n",
      "(77.904, 625.4286400000001, 108.94999999999999, 634.4822800000001)\n",
      "Sr. No. \n",
      "\n",
      "LTTextBoxHorizontal\n",
      "(129.38, 625.4286400000001, 276.38, 634.4822800000001)\n",
      "Reference no. of the bank guarantee \n",
      "\n",
      "LTTextBoxHorizontal\n",
      "(317.59, 625.4286400000001, 338.92, 634.4822800000001)\n",
      "Date \n",
      "\n",
      "LTTextBoxHorizontal\n",
      "(389.59, 625.4286400000001, 424.87, 634.4822800000001)\n",
      "Amount \n",
      "\n",
      "LTTextBoxHorizontal\n",
      "(454.06, 613.90864, 533.18224, 634.4822800000001)\n",
      "Name of bank and \n",
      "branch \n",
      "\n",
      "LTTextBoxHorizontal\n",
      "(101.06, 577.39864, 108.58999999999999, 586.45228)\n",
      "1 \n",
      "\n",
      "LTTextBoxHorizontal\n",
      "(219.29, 577.39864, 226.82000000000002, 586.45228)\n",
      "2 \n",
      "\n",
      "LTTextBoxHorizontal\n",
      "(344.83, 577.39864, 352.36, 586.45228)\n",
      "3 \n",
      "\n",
      "LTTextBoxHorizontal\n",
      "(417.31, 577.39864, 424.87, 586.45228)\n",
      "4 \n",
      "\n",
      "LTTextBoxHorizontal\n",
      "(502.9, 577.39864, 510.43, 586.45228)\n",
      "5 \n",
      "\n",
      "LTTextBoxHorizontal\n",
      "(74.784, 556.51864, 77.274, 565.57228)\n",
      " \n",
      "\n",
      "LTTextBoxHorizontal\n",
      "(74.784, 535.63864, 77.274, 544.69228)\n",
      " \n",
      "\n",
      "LTTextBoxHorizontal\n",
      "(122.3, 556.51864, 124.78999999999999, 565.57228)\n",
      " \n",
      "\n",
      "LTTextBoxHorizontal\n",
      "(122.3, 535.63864, 124.78999999999999, 544.69228)\n",
      " \n",
      "\n",
      "LTTextBoxHorizontal\n",
      "(310.03, 556.51864, 312.52, 565.57228)\n",
      " \n",
      "\n",
      "LTTextBoxHorizontal\n",
      "(310.03, 535.63864, 312.52, 544.69228)\n",
      " \n",
      "\n",
      "LTTextBoxHorizontal\n",
      "(382.03, 556.51864, 384.52, 565.57228)\n",
      " \n",
      "\n",
      "LTTextBoxHorizontal\n",
      "(382.03, 535.63864, 384.52, 544.69228)\n",
      " \n",
      "\n",
      "LTTextBoxHorizontal\n",
      "(454.06, 556.51864, 456.55, 565.57228)\n",
      " \n",
      "\n",
      "LTTextBoxHorizontal\n",
      "(454.06, 535.63864, 456.55, 544.69228)\n",
      " \n",
      "\n",
      "LTTextBoxHorizontal\n",
      "(74.304, 514.27864, 462.07, 523.33228)\n",
      "Note – Hard copy of the bank guarantee and bond shall be furnished to the jurisdictional officer. \n",
      "\n",
      "LTTextBoxHorizontal\n",
      "(74.304, 372.29864, 557.6234400000006, 484.81228000000004)\n",
      "5. Declaration - \n",
      " \n",
      "(i) The above-mentioned bank guarantee is submitted to secure the integrated tax payable on export of goods or \n",
      "services. \n",
      " \n",
      "(ii) I, undertake to renew the bank guarantee well before its expiry. In case I/We fail to do so the department will be at \n",
      "liberty to get the payment from the bank against the bank guarantee. \n",
      " \n",
      "(iii) The department will be at liberty to invoke the bank guarantee provided by us to cover the amount of integrated tax \n",
      "payable in respect of export of goods or services. \n",
      "\n",
      "LTTextBoxHorizontal\n",
      "(358.75, 333.65864, 499.27, 369.83228)\n",
      " \n",
      " \n",
      "Signature of Authorized Signatory \n",
      "\n",
      "LTTextBoxHorizontal\n",
      "(358.75, 309.29864, 385.12, 318.35228)\n",
      "Name \n",
      "\n",
      "LTTextBoxHorizontal\n",
      "(358.75, 294.41864, 437.683, 303.47228)\n",
      "Designation / Status \n",
      "\n",
      "LTTextBoxHorizontal\n",
      "(358.75, 279.17864, 417.28000000000003, 288.23228)\n",
      "Date ----------- \n",
      "\n",
      "LTTextBoxHorizontal\n",
      "(315.79, 68.21664, 319.78000000000003, 82.72428000000001)\n",
      " \n",
      "\n",
      "LTTextBoxHorizontal\n",
      "(423.82, 49.71263999999999, 427.81, 63.96492)\n",
      " \n",
      "\n",
      "LTRect\n",
      "(74.304, 722.14, 74.784, 722.62)\n",
      "LTRect\n",
      "(74.304, 722.14, 74.784, 722.62)\n",
      "LTRect\n",
      "(74.784, 722.14, 305.474, 722.62)\n",
      "LTRect\n",
      "(305.47, 722.14, 305.94998000000004, 722.62)\n",
      "LTRect\n",
      "(305.95, 722.14, 553.68, 722.62)\n",
      "LTRect\n",
      "(553.68, 722.14, 554.16004, 722.62)\n",
      "LTRect\n",
      "(553.68, 722.14, 554.16004, 722.62)\n",
      "LTRect\n",
      "(74.304, 701.5, 74.784, 722.14)\n",
      "LTRect\n",
      "(305.47, 701.5, 305.94998000000004, 722.14)\n",
      "LTRect\n",
      "(553.68, 701.5, 554.16004, 722.14)\n",
      "LTRect\n",
      "(74.304, 701.02, 74.784, 701.50001)\n",
      "LTRect\n",
      "(74.784, 701.02, 305.474, 701.50001)\n",
      "LTRect\n",
      "(305.47, 701.02, 305.94998000000004, 701.50001)\n",
      "LTRect\n",
      "(305.95, 701.02, 553.68, 701.50001)\n",
      "LTRect\n",
      "(553.68, 701.02, 554.16004, 701.50001)\n",
      "LTRect\n",
      "(74.304, 680.38, 74.784, 701.02)\n",
      "LTRect\n",
      "(305.47, 680.38, 305.94998000000004, 701.02)\n",
      "LTRect\n",
      "(553.68, 680.38, 554.16004, 701.02)\n",
      "LTRect\n",
      "(74.304, 679.9, 74.784, 680.38)\n",
      "LTRect\n",
      "(74.784, 679.9, 305.474, 680.38)\n",
      "LTRect\n",
      "(305.47, 679.9, 305.94998000000004, 680.38)\n",
      "LTRect\n",
      "(305.95, 679.9, 553.68, 680.38)\n",
      "LTRect\n",
      "(553.68, 679.9, 554.16004, 680.38)\n",
      "LTRect\n",
      "(74.304, 675.82, 74.784, 679.9000000000001)\n",
      "LTRect\n",
      "(305.47, 675.82, 305.94998000000004, 679.9000000000001)\n",
      "LTRect\n",
      "(553.68, 675.82, 554.16004, 679.9000000000001)\n",
      "LTRect\n",
      "(74.304, 675.34, 74.784, 675.82)\n",
      "LTRect\n",
      "(305.47, 675.34, 305.94998000000004, 675.82)\n",
      "LTRect\n",
      "(347.47, 675.34, 347.94998000000004, 675.82)\n",
      "LTRect\n",
      "(347.47, 675.34, 347.94998000000004, 675.82)\n",
      "LTRect\n",
      "(347.95, 675.34, 377.46999999999997, 675.82)\n",
      "LTRect\n",
      "(377.47, 675.34, 377.94998000000004, 675.82)\n",
      "LTRect\n",
      "(377.47, 675.34, 377.94998000000004, 675.82)\n",
      "LTRect\n",
      "(503.98, 675.34, 504.45998000000003, 675.82)\n",
      "LTRect\n",
      "(503.98, 675.34, 504.45998000000003, 675.82)\n",
      "LTRect\n",
      "(504.46, 675.34, 534.22, 675.82)\n",
      "LTRect\n",
      "(534.22, 675.34, 534.69998, 675.82)\n",
      "LTRect\n",
      "(534.22, 675.34, 534.69998, 675.82)\n",
      "LTRect\n",
      "(553.68, 675.34, 554.16004, 675.82)\n",
      "LTRect\n",
      "(74.304, 659.5, 74.784, 675.34)\n",
      "LTRect\n",
      "(305.47, 659.5, 305.94998000000004, 675.34)\n",
      "LTRect\n",
      "(347.47, 659.5, 347.94998000000004, 675.34)\n",
      "LTRect\n",
      "(377.47, 659.5, 377.94998000000004, 675.34)\n",
      "LTRect\n",
      "(503.98, 659.5, 504.45998000000003, 675.34)\n",
      "LTRect\n",
      "(534.22, 659.5, 534.69998, 675.34)\n",
      "LTRect\n",
      "(553.68, 659.5, 554.16004, 675.34)\n",
      "LTRect\n",
      "(74.304, 659.02, 74.784, 659.50001)\n",
      "LTRect\n",
      "(74.784, 659.02, 305.474, 659.50001)\n",
      "LTRect\n",
      "(305.47, 659.02, 305.94998000000004, 659.50001)\n",
      "LTRect\n",
      "(305.95, 659.02, 347.46999999999997, 659.50001)\n",
      "LTRect\n",
      "(347.47, 659.02, 347.94998000000004, 659.50001)\n",
      "LTRect\n",
      "(347.95, 659.02, 377.46999999999997, 659.50001)\n",
      "LTRect\n",
      "(377.47, 659.02, 377.94998000000004, 659.50001)\n",
      "LTRect\n",
      "(377.95, 659.02, 503.96999999999997, 659.50001)\n",
      "LTRect\n",
      "(503.98, 659.02, 504.45998000000003, 659.50001)\n",
      "LTRect\n",
      "(504.46, 659.02, 534.22, 659.50001)\n",
      "LTRect\n",
      "(534.22, 659.02, 534.69998, 659.50001)\n",
      "LTRect\n",
      "(534.7, 659.02, 553.6840000000001, 659.50001)\n",
      "LTRect\n",
      "(553.68, 659.02, 554.16004, 659.50001)\n",
      "LTRect\n",
      "(74.304, 637.42, 74.784, 659.02)\n",
      "LTRect\n",
      "(553.68, 637.42, 554.16004, 659.02)\n",
      "LTRect\n",
      "(74.304, 636.94, 74.784, 637.4200000000001)\n",
      "LTRect\n",
      "(74.784, 636.94, 121.82400000000001, 637.4200000000001)\n",
      "LTRect\n",
      "(121.82, 636.94, 122.3, 637.4200000000001)\n",
      "LTRect\n",
      "(122.3, 636.94, 309.55, 637.4200000000001)\n",
      "LTRect\n",
      "(309.55, 636.94, 310.03001, 637.4200000000001)\n",
      "LTRect\n",
      "(310.03, 636.94, 381.54999999999995, 637.4200000000001)\n",
      "LTRect\n",
      "(381.55, 636.94, 382.03001, 637.4200000000001)\n",
      "LTRect\n",
      "(382.03, 636.94, 453.57399999999996, 637.4200000000001)\n",
      "LTRect\n",
      "(453.58, 636.94, 454.06001, 637.4200000000001)\n",
      "LTRect\n",
      "(454.06, 636.94, 553.684, 637.4200000000001)\n",
      "LTRect\n",
      "(553.68, 636.94, 554.16004, 637.4200000000001)\n",
      "LTRect\n",
      "(74.304, 589.42, 74.784, 636.9399999999999)\n",
      "LTRect\n",
      "(121.82, 589.42, 122.3, 636.9399999999999)\n",
      "LTRect\n",
      "(309.55, 589.42, 310.03001, 636.9399999999999)\n",
      "LTRect\n",
      "(381.55, 589.42, 382.03001, 636.9399999999999)\n",
      "LTRect\n",
      "(453.58, 589.42, 454.06001, 636.9399999999999)\n",
      "LTRect\n",
      "(553.68, 589.42, 554.16004, 636.9399999999999)\n",
      "LTRect\n",
      "(74.304, 588.94, 74.784, 589.4200000000001)\n",
      "LTRect\n",
      "(74.784, 588.94, 121.82400000000001, 589.4200000000001)\n",
      "LTRect\n",
      "(121.82, 588.94, 122.3, 589.4200000000001)\n",
      "LTRect\n",
      "(122.3, 588.94, 309.55, 589.4200000000001)\n",
      "LTRect\n",
      "(309.55, 588.94, 310.03001, 589.4200000000001)\n",
      "LTRect\n",
      "(310.03, 588.94, 381.54999999999995, 589.4200000000001)\n",
      "LTRect\n",
      "(381.55, 588.94, 382.03001, 589.4200000000001)\n",
      "LTRect\n",
      "(382.03, 588.94, 453.57399999999996, 589.4200000000001)\n",
      "LTRect\n",
      "(453.58, 588.94, 454.06001, 589.4200000000001)\n",
      "LTRect\n",
      "(454.06, 588.94, 553.684, 589.4200000000001)\n",
      "LTRect\n",
      "(553.68, 588.94, 554.16004, 589.4200000000001)\n",
      "LTRect\n",
      "(74.304, 568.51, 74.784, 588.934)\n",
      "LTRect\n",
      "(121.82, 568.51, 122.3, 588.934)\n",
      "LTRect\n",
      "(309.55, 568.51, 310.03001, 588.934)\n",
      "LTRect\n",
      "(381.55, 568.51, 382.03001, 588.934)\n",
      "LTRect\n",
      "(453.58, 568.51, 454.06001, 588.934)\n",
      "LTRect\n",
      "(553.68, 568.51, 554.16004, 588.934)\n",
      "LTRect\n",
      "(74.304, 568.03, 74.784, 568.51001)\n",
      "LTRect\n",
      "(74.784, 568.03, 121.82400000000001, 568.51001)\n",
      "LTRect\n",
      "(121.82, 568.03, 122.3, 568.51001)\n",
      "LTRect\n",
      "(122.3, 568.03, 309.55, 568.51001)\n",
      "LTRect\n",
      "(309.55, 568.03, 310.03001, 568.51001)\n",
      "LTRect\n",
      "(310.03, 568.03, 381.54999999999995, 568.51001)\n",
      "LTRect\n",
      "(381.55, 568.03, 382.03001, 568.51001)\n",
      "LTRect\n",
      "(382.03, 568.03, 453.57399999999996, 568.51001)\n",
      "LTRect\n",
      "(453.58, 568.03, 454.06001, 568.51001)\n",
      "LTRect\n",
      "(454.06, 568.03, 553.684, 568.51001)\n",
      "LTRect\n",
      "(553.68, 568.03, 554.16004, 568.51001)\n",
      "LTRect\n",
      "(74.304, 547.63, 74.784, 568.03)\n",
      "LTRect\n",
      "(121.82, 547.63, 122.3, 568.03)\n",
      "LTRect\n",
      "(309.55, 547.63, 310.03001, 568.03)\n",
      "LTRect\n",
      "(381.55, 547.63, 382.03001, 568.03)\n",
      "LTRect\n",
      "(453.58, 547.63, 454.06001, 568.03)\n",
      "LTRect\n",
      "(553.68, 547.63, 554.16004, 568.03)\n",
      "LTRect\n",
      "(74.304, 547.15, 74.784, 547.63001)\n",
      "LTRect\n",
      "(74.784, 547.15, 121.82400000000001, 547.63001)\n",
      "LTRect\n",
      "(121.82, 547.15, 122.3, 547.63001)\n",
      "LTRect\n",
      "(122.3, 547.15, 309.55, 547.63001)\n",
      "LTRect\n",
      "(309.55, 547.15, 310.03001, 547.63001)\n",
      "LTRect\n",
      "(310.03, 547.15, 381.54999999999995, 547.63001)\n",
      "LTRect\n",
      "(381.55, 547.15, 382.03001, 547.63001)\n",
      "LTRect\n",
      "(382.03, 547.15, 453.57399999999996, 547.63001)\n",
      "LTRect\n",
      "(453.58, 547.15, 454.06001, 547.63001)\n",
      "LTRect\n",
      "(454.06, 547.15, 553.684, 547.63001)\n",
      "LTRect\n",
      "(553.68, 547.15, 554.16004, 547.63001)\n",
      "LTRect\n",
      "(74.304, 526.27, 74.784, 547.15)\n",
      "LTRect\n",
      "(74.304, 525.79, 74.784, 526.2699799999999)\n",
      "LTRect\n",
      "(74.304, 525.79, 74.784, 526.2699799999999)\n",
      "LTRect\n",
      "(74.784, 525.79, 121.82400000000001, 526.2699799999999)\n",
      "LTRect\n",
      "(121.82, 526.27, 122.3, 547.15)\n",
      "LTRect\n",
      "(121.82, 525.79, 122.3, 526.2699799999999)\n",
      "LTRect\n",
      "(122.3, 525.79, 309.55, 526.2699799999999)\n",
      "LTRect\n",
      "(309.55, 526.27, 310.03001, 547.15)\n",
      "LTRect\n",
      "(309.55, 525.79, 310.03001, 526.2699799999999)\n",
      "LTRect\n",
      "(310.03, 525.79, 381.54999999999995, 526.2699799999999)\n",
      "LTRect\n",
      "(381.55, 526.27, 382.03001, 547.15)\n",
      "LTRect\n",
      "(381.55, 525.79, 382.03001, 526.2699799999999)\n",
      "LTRect\n",
      "(382.03, 525.79, 453.57399999999996, 526.2699799999999)\n",
      "LTRect\n",
      "(453.58, 526.27, 454.06001, 547.15)\n",
      "LTRect\n",
      "(453.58, 525.79, 454.06001, 526.2699799999999)\n",
      "LTRect\n",
      "(454.06, 525.79, 553.684, 526.2699799999999)\n",
      "LTRect\n",
      "(553.68, 526.27, 554.16004, 547.15)\n",
      "LTRect\n",
      "(553.68, 525.79, 554.16004, 526.2699799999999)\n",
      "LTRect\n",
      "(553.68, 525.79, 554.16004, 526.2699799999999)\n",
      "LTLine\n",
      "(445.8, 297.79, 468.65, 297.79)\n",
      "LTTextBoxHorizontal\n",
      "(72.384, 759.48864, 74.874, 768.54228)\n",
      " \n",
      "\n",
      "LTTextBoxHorizontal\n",
      "(72.384, 49.71263999999999, 178.91, 64.22028)\n",
      "www.taxguru.in \n",
      "\n",
      "LTRect\n",
      "(72.384, 50.76, 176.424, 51.479969999999994)\n"
     ]
    }
   ],
   "source": [
    "from pdfminer.pdfdocument import PDFDocument\n",
    "from pdfminer.pdfpage import PDFPage\n",
    "from pdfminer.pdfparser import PDFParser\n",
    "from pdfminer.pdfinterp import PDFResourceManager, PDFPageInterpreter\n",
    "from pdfminer.converter import PDFPageAggregator\n",
    "from pdfminer.layout import LAParams, LTTextBox, LTTextLine, LTFigure\n",
    "\n",
    "\n",
    "def parse_layout(layout):\n",
    "    \"\"\"Function to recursively parse the layout tree.\"\"\"\n",
    "    for lt_obj in layout:\n",
    "        print(lt_obj.__class__.__name__)\n",
    "        print(lt_obj.bbox)\n",
    "        if isinstance(lt_obj, LTTextBox):\n",
    "            print(lt_obj.get_text())\n",
    "        elif isinstance(lt_obj, LTFigure):\n",
    "            parse_layout(lt_obj)  # Recursive\n",
    "\n",
    "\n",
    "fp = open('FORM-GST-RFD-11.pdf', 'rb')\n",
    "parser = PDFParser(fp)\n",
    "doc = PDFDocument(parser)\n",
    "\n",
    "rsrcmgr = PDFResourceManager()\n",
    "laparams = LAParams()\n",
    "device = PDFPageAggregator(rsrcmgr, laparams=laparams)\n",
    "interpreter = PDFPageInterpreter(rsrcmgr, device)\n",
    "for page in PDFPage.create_pages(doc):\n",
    "    interpreter.process_page(page)\n",
    "    layout = device.get_result()\n",
    "    parse_layout(layout)"
   ]
  },
  {
   "cell_type": "code",
   "execution_count": 303,
   "metadata": {},
   "outputs": [],
   "source": [
    "\n",
    "fp = open('FORM-GST-RFD-11.pdf', 'rb')\n",
    "parser = PDFParser(fp)\n",
    "doc = PDFDocument(parser)\n",
    "\n"
   ]
  },
  {
   "cell_type": "code",
   "execution_count": 304,
   "metadata": {},
   "outputs": [],
   "source": [
    "rsrcmgr = PDFResourceManager()\n",
    "laparams = LAParams()\n",
    "device = PDFPageAggregator(rsrcmgr, laparams=laparams)\n",
    "interpreter = PDFPageInterpreter(rsrcmgr, device)\n"
   ]
  },
  {
   "cell_type": "code",
   "execution_count": 305,
   "metadata": {},
   "outputs": [
    {
     "name": "stdout",
     "output_type": "stream",
     "text": [
      "<LTPage(1) 0.000,0.000,595.920,842.640 rotate=0>\n"
     ]
    }
   ],
   "source": [
    "for page in PDFPage.create_pages(doc):\n",
    "    interpreter.process_page(page)\n",
    "    layout = device.get_result()\n",
    "    print(layout)\n",
    "    #parse_layout(layout)\n",
    "    break"
   ]
  },
  {
   "cell_type": "code",
   "execution_count": 306,
   "metadata": {},
   "outputs": [
    {
     "data": {
      "text/plain": [
       "<generator object PDFPage.create_pages at 0x7fa82f48ca98>"
      ]
     },
     "execution_count": 306,
     "metadata": {},
     "output_type": "execute_result"
    }
   ],
   "source": [
    "PDFPage.create_pages(doc)"
   ]
  },
  {
   "cell_type": "code",
   "execution_count": 307,
   "metadata": {},
   "outputs": [
    {
     "name": "stdout",
     "output_type": "stream",
     "text": [
      "None\n"
     ]
    }
   ],
   "source": [
    "for page in PDFPage.create_pages(doc):\n",
    "    #print(page)\n",
    "    print(interpreter.process_page(page))\n",
    "    break"
   ]
  },
  {
   "cell_type": "code",
   "execution_count": 308,
   "metadata": {},
   "outputs": [],
   "source": [
    "def parse_layout(layout):\n",
    "    \"\"\"Function to recursively parse the layout tree.\"\"\"\n",
    "    for lt_obj in layout:\n",
    "        print(lt_obj.__class__.__name__)\n",
    "        print(lt_obj.bbox)\n",
    "        if isinstance(lt_obj, LTTextBox):\n",
    "            print(lt_obj.get_text())\n",
    "        elif isinstance(lt_obj, LTFigure):\n",
    "            parse_layout(lt_obj)  # Recursive"
   ]
  },
  {
   "cell_type": "code",
   "execution_count": 309,
   "metadata": {},
   "outputs": [
    {
     "name": "stdout",
     "output_type": "stream",
     "text": [
      "<LTTextLineHorizontal 271.130,759.489,363.040,768.383 'FORM GST RFD-11 \\n'>\n",
      "\n",
      "\n",
      "<LTTextLineHorizontal 286.370,747.949,347.800,757.012 '[See rule 96A] \\n'>\n",
      "\n",
      "\n",
      "<LTTextLineHorizontal 135.500,725.629,460.270,734.523 'Furnishing of bond or Letter of Undertaking for export of goods or services \\n'>\n",
      "\n",
      "\n",
      "<LTTextLineHorizontal 77.904,710.629,124.190,720.031 '1.  GSTIN \\n'>\n",
      "\n",
      "\n",
      "<LTTextLineHorizontal 77.904,689.509,118.670,698.911 '2.  Name \\n'>\n",
      "\n",
      "\n",
      "<LTTextLineHorizontal 77.904,668.389,254.540,677.791 '3.  Indicate the type of document furnished \\n'>\n",
      "\n",
      "\n",
      "<LTTextLineHorizontal 77.904,647.509,196.700,656.911 '4.  Details of bond furnished \\n'>\n",
      "\n",
      "\n",
      "<LTTextLineHorizontal 305.950,710.629,308.440,719.682 ' \\n'>\n",
      "\n",
      "\n",
      "<LTTextLineHorizontal 305.950,689.509,308.440,698.562 ' \\n'>\n",
      "\n",
      "\n",
      "<LTTextLineHorizontal 305.950,668.389,308.440,677.442 ' \\n'>\n",
      "\n",
      "\n",
      "<LTTextLineHorizontal 314.470,663.829,341.440,672.882 'Bond: \\n'>\n",
      "\n",
      "\n",
      "<LTTextLineHorizontal 347.950,663.829,350.440,672.882 ' \\n'>\n",
      "\n",
      "\n",
      "<LTTextLineHorizontal 381.910,663.829,467.470,672.882 'Letter of Undertaking \\n'>\n",
      "\n",
      "\n",
      "<LTTextLineHorizontal 504.460,663.829,506.950,672.882 ' \\n'>\n",
      "\n",
      "\n",
      "<LTTextLineHorizontal 534.700,663.829,537.190,672.882 ' \\n'>\n",
      "\n",
      "\n",
      "<LTTextLineHorizontal 77.904,625.429,108.950,634.482 'Sr. No. \\n'>\n",
      "\n",
      "\n",
      "<LTTextLineHorizontal 129.380,625.429,276.380,634.482 'Reference no. of the bank guarantee \\n'>\n",
      "\n",
      "\n",
      "<LTTextLineHorizontal 317.590,625.429,338.920,634.482 'Date \\n'>\n",
      "\n",
      "\n",
      "<LTTextLineHorizontal 389.590,625.429,424.870,634.482 'Amount \\n'>\n",
      "\n",
      "\n",
      "<LTTextLineHorizontal 454.060,625.429,533.182,634.482 'Name of bank and \\n'>\n",
      "\n",
      "\n",
      "<LTTextLineHorizontal 454.060,613.909,483.790,622.962 'branch \\n'>\n",
      "\n",
      "\n",
      "<LTTextLineHorizontal 101.060,577.399,108.590,586.452 '1 \\n'>\n",
      "\n",
      "\n",
      "<LTTextLineHorizontal 219.290,577.399,226.820,586.452 '2 \\n'>\n",
      "\n",
      "\n",
      "<LTTextLineHorizontal 344.830,577.399,352.360,586.452 '3 \\n'>\n",
      "\n",
      "\n",
      "<LTTextLineHorizontal 417.310,577.399,424.870,586.452 '4 \\n'>\n",
      "\n",
      "\n",
      "<LTTextLineHorizontal 502.900,577.399,510.430,586.452 '5 \\n'>\n",
      "\n",
      "\n",
      "<LTTextLineHorizontal 74.784,556.519,77.274,565.572 ' \\n'>\n",
      "\n",
      "\n",
      "<LTTextLineHorizontal 74.784,535.639,77.274,544.692 ' \\n'>\n",
      "\n",
      "\n",
      "<LTTextLineHorizontal 122.300,556.519,124.790,565.572 ' \\n'>\n",
      "\n",
      "\n",
      "<LTTextLineHorizontal 122.300,535.639,124.790,544.692 ' \\n'>\n",
      "\n",
      "\n",
      "<LTTextLineHorizontal 310.030,556.519,312.520,565.572 ' \\n'>\n",
      "\n",
      "\n",
      "<LTTextLineHorizontal 310.030,535.639,312.520,544.692 ' \\n'>\n",
      "\n",
      "\n",
      "<LTTextLineHorizontal 382.030,556.519,384.520,565.572 ' \\n'>\n",
      "\n",
      "\n",
      "<LTTextLineHorizontal 382.030,535.639,384.520,544.692 ' \\n'>\n",
      "\n",
      "\n",
      "<LTTextLineHorizontal 454.060,556.519,456.550,565.572 ' \\n'>\n",
      "\n",
      "\n",
      "<LTTextLineHorizontal 454.060,535.639,456.550,544.692 ' \\n'>\n",
      "\n",
      "\n",
      "<LTTextLineHorizontal 74.304,514.279,462.070,523.332 'Note – Hard copy of the bank guarantee and bond shall be furnished to the jurisdictional officer. \\n'>\n",
      "\n",
      "\n",
      "<LTTextLineHorizontal 74.304,475.759,139.310,484.812 '5. Declaration - \\n'>\n",
      "\n",
      "\n",
      "<LTTextLineHorizontal 74.304,464.239,76.794,473.292 ' \\n'>\n",
      "\n",
      "\n",
      "<LTTextLineHorizontal 74.304,452.719,522.769,461.772 '(i) The above-mentioned bank guarantee is submitted to secure the integrated tax payable on export of goods or \\n'>\n",
      "\n",
      "\n",
      "<LTTextLineHorizontal 74.304,441.319,111.470,450.372 'services. \\n'>\n",
      "\n",
      "\n",
      "<LTTextLineHorizontal 74.304,429.799,76.794,438.852 ' \\n'>\n",
      "\n",
      "\n",
      "<LTTextLineHorizontal 74.304,418.279,549.240,427.332 '(ii) I, undertake to renew the bank guarantee well before its expiry. In case I/We fail to do so the department will be at \\n'>\n",
      "\n",
      "\n",
      "<LTTextLineHorizontal 74.304,406.739,349.480,415.792 'liberty to get the payment from the bank against the bank guarantee. \\n'>\n",
      "\n",
      "\n",
      "<LTTextLineHorizontal 74.304,395.219,76.794,404.272 ' \\n'>\n",
      "\n",
      "\n",
      "<LTTextLineHorizontal 74.304,381.488,557.623,398.210 '(iii) The department will be at liberty to invoke the bank guarantee provided by us to cover the amount of integrated tax \\n'>\n",
      "\n",
      "\n",
      "<LTTextLineHorizontal 74.304,372.299,273.140,381.352 'payable in respect of export of goods or services. \\n'>\n",
      "\n",
      "\n",
      "<LTTextLineHorizontal 358.750,360.779,361.240,369.832 ' \\n'>\n",
      "\n",
      "\n",
      "<LTTextLineHorizontal 358.750,347.219,361.240,356.272 ' \\n'>\n",
      "\n",
      "\n",
      "<LTTextLineHorizontal 358.750,333.659,499.270,342.712 'Signature of Authorized Signatory \\n'>\n",
      "\n",
      "\n",
      "<LTTextLineHorizontal 358.750,309.299,385.120,318.352 'Name \\n'>\n",
      "\n",
      "\n",
      "<LTTextLineHorizontal 358.750,294.419,437.683,303.472 'Designation / Status \\n'>\n",
      "\n",
      "\n",
      "<LTTextLineHorizontal 358.750,279.179,417.280,288.232 'Date ----------- \\n'>\n",
      "\n",
      "\n",
      "<LTTextLineHorizontal 315.790,68.217,319.780,82.724 ' \\n'>\n",
      "\n",
      "\n",
      "<LTTextLineHorizontal 423.820,49.713,427.810,63.965 ' \\n'>\n",
      "\n",
      "\n"
     ]
    }
   ],
   "source": [
    "for lt_obj in layout:\n",
    "#     print(lt_obj.__class__.__name__)\n",
    "#     print(lt_obj.bbox)\n",
    "    if isinstance(lt_obj, LTTextBox):\n",
    "#         print(lt_obj.get_text())\n",
    "        for i in lt_obj:\n",
    "            print(i)\n",
    "            print('\\n')\n",
    "    elif isinstance(lt_obj, LTFigure):\n",
    "        parse_layout(lt_obj)  # Recursive    "
   ]
  },
  {
   "cell_type": "code",
   "execution_count": 277,
   "metadata": {},
   "outputs": [],
   "source": [
    "x,y = 311.39219999999995, 670.9703"
   ]
  },
  {
   "cell_type": "code",
   "execution_count": null,
   "metadata": {},
   "outputs": [],
   "source": []
  },
  {
   "cell_type": "code",
   "execution_count": 45,
   "metadata": {},
   "outputs": [],
   "source": [
    "import pdfquery"
   ]
  },
  {
   "cell_type": "code",
   "execution_count": 46,
   "metadata": {},
   "outputs": [],
   "source": [
    "pdf = pdfquery.PDFQuery(\"FORM-GST-RFD-11.pdf\")"
   ]
  },
  {
   "cell_type": "code",
   "execution_count": 47,
   "metadata": {},
   "outputs": [],
   "source": [
    "pdf.load()"
   ]
  },
  {
   "cell_type": "code",
   "execution_count": 48,
   "metadata": {},
   "outputs": [],
   "source": [
    "label = pdf.pq('LTTextLineHorizontal:contains(\"GSTIN\")')"
   ]
  },
  {
   "cell_type": "code",
   "execution_count": 49,
   "metadata": {},
   "outputs": [],
   "source": [
    "x1,y1,x2,y2 = float(label.attr('x0')),float(label.attr('y0')), float(label.attr('x1')), float(label.attr('y1'))"
   ]
  },
  {
   "cell_type": "code",
   "execution_count": 50,
   "metadata": {},
   "outputs": [
    {
     "data": {
      "text/plain": [
       "(77.904, 710.629, 124.19, 720.031)"
      ]
     },
     "execution_count": 50,
     "metadata": {},
     "output_type": "execute_result"
    }
   ],
   "source": [
    "x1,y1,x2,y2"
   ]
  },
  {
   "cell_type": "code",
   "execution_count": 51,
   "metadata": {},
   "outputs": [],
   "source": [
    "img = cv2.imread(\"rfd11-0.png\")"
   ]
  },
  {
   "cell_type": "code",
   "execution_count": 52,
   "metadata": {
    "scrolled": true
   },
   "outputs": [
    {
     "data": {
      "text/plain": [
       "<matplotlib.image.AxesImage at 0x7f603da0c668>"
      ]
     },
     "execution_count": 52,
     "metadata": {},
     "output_type": "execute_result"
    },
    {
     "data": {
      "image/png": "[encoded data removed]",
      "text/plain": [
       "<Figure size 432x288 with 1 Axes>"
      ]
     },
     "metadata": {
      "needs_background": "light"
     },
     "output_type": "display_data"
    }
   ],
   "source": [
    "plt.imshow(img[843-721:843-711,78:125])"
   ]
  },
  {
   "cell_type": "code",
   "execution_count": null,
   "metadata": {},
   "outputs": [],
   "source": []
  }
 ],
 "metadata": {
  "kernelspec": {
   "display_name": "Python 2",
   "language": "python",
   "name": "python2"
  },
  "language_info": {
   "codemirror_mode": {
    "name": "ipython",
    "version": 2
   },
   "file_extension": ".py",
   "mimetype": "text/x-python",
   "name": "python",
   "nbconvert_exporter": "python",
   "pygments_lexer": "ipython2",
   "version": "2.7.16"
  }
 },
 "nbformat": 4,
 "nbformat_minor": 2
}
