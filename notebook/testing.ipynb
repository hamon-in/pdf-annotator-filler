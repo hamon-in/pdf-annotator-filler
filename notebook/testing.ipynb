{
 "cells": [
  {
   "cell_type": "code",
   "execution_count": 35,
   "metadata": {},
   "outputs": [],
   "source": [
    "import pandas as pd\n",
    "import matplotlib.pyplot as plt\n",
    "import matplotlib.image as mpimg\n",
    "import numpy as np\n",
    "import cv2\n",
    "from PIL import Image\n",
    "from PIL import ImageFilter\n",
    "import matplotlib as mpl\n",
    "from PyPDF2 import PdfFileWriter, PdfFileReader\n",
    "import io\n",
    "from reportlab.pdfgen import canvas\n",
    "from reportlab.lib.pagesizes import letter,A4\n",
    "%matplotlib inline"
   ]
  },
  {
   "cell_type": "code",
   "execution_count": 36,
   "metadata": {},
   "outputs": [
    {
     "data": {
      "text/plain": [
       "(595.2755905511812, 841.8897637795277)"
      ]
     },
     "execution_count": 36,
     "metadata": {},
     "output_type": "execute_result"
    }
   ],
   "source": [
    "A4"
   ]
  },
  {
   "cell_type": "code",
   "execution_count": 38,
   "metadata": {},
   "outputs": [],
   "source": [
    "DATA = [\n",
    "    {\n",
    "        \"zname\": \"Field 1\",\n",
    "        \"lx\": 300,\n",
    "        \"ly\": 300,\n",
    "        \"rx\": 320,\n",
    "        \"ry\": 645,\n",
    "        \"page\": 0,\n",
    "        \"page_height\": 800,\n",
    "        \"page_width\": 800\n",
    "    },\n",
    "    {\n",
    "        \"zname\": \"...Field 0\",\n",
    "        \"lx\": 0.5,\n",
    "        \"ly\": 2.5,\n",
    "        \"rx\": 50,\n",
    "        \"ry\": 45,\n",
    "        \"page\": 0,\n",
    "        \"page_height\": 800,\n",
    "        \"page_width\": 800\n",
    "    } \n",
    "]"
   ]
  },
  {
   "cell_type": "code",
   "execution_count": 39,
   "metadata": {},
   "outputs": [],
   "source": [
    "ZONES = []\n",
    "for zone in DATA:\n",
    "    while zone['page'] >= len(ZONES):\n",
    "        ZONES.append([])\n",
    "    ZONES[zone['page']].append(zone)    "
   ]
  },
  {
   "cell_type": "code",
   "execution_count": 45,
   "metadata": {},
   "outputs": [],
   "source": [
    "output = PdfFileWriter()\n",
    "old_pdf = PdfFileReader(open(\"graph.pdf\",\"rb\"))\n",
    "\n",
    "for index,currPage in enumerate(ZONES):\n",
    "    if len(currPage) == 0:\n",
    "        continue\n",
    "    \n",
    "    packet = io.BytesIO()\n",
    "    can = canvas.Canvas(packet)\n",
    "    \n",
    "    height = int(list(old_pdf.getPage(index).mediaBox)[3])\n",
    "    width = int(list(old_pdf.getPage(index).mediaBox)[2])\n",
    "    \n",
    "    for zone in currPage:        \n",
    "        hr = height/zone['page_height']\n",
    "        wr = width/zone['page_width']\n",
    "        \n",
    "        if (width,height) == letter:\n",
    "            #for us letters\n",
    "            can.drawString(zone['lx']*wr-1,height - zone['ly']*hr,zone['zname'])  \n",
    "        else:\n",
    "            #for A4 size\n",
    "            can.drawString(0.5*wr+zone['lx']*wr,height - zone['ly']*hr-10*hr,zone['zname'])\n",
    "\n",
    "    can.save()\n",
    "\n",
    "    packet.seek(0)\n",
    "    new_pdf = PdfFileReader(packet)\n",
    "\n",
    "\n",
    "    page = old_pdf.getPage(index)\n",
    "    page.mergePage(new_pdf.getPage(0))\n",
    "    output.addPage(page)\n",
    "\n",
    "    outputStream = open(\"des.pdf\",\"ab\")\n",
    "    output.write(outputStream)\n",
    "    outputStream.close()    \n",
    "    "
   ]
  },
  {
   "cell_type": "code",
   "execution_count": null,
   "metadata": {},
   "outputs": [],
   "source": []
  },
  {
   "cell_type": "code",
   "execution_count": null,
   "metadata": {},
   "outputs": [],
   "source": []
  }
 ],
 "metadata": {
  "kernelspec": {
   "display_name": "Python 3",
   "language": "python",
   "name": "python3"
  },
  "language_info": {
   "codemirror_mode": {
    "name": "ipython",
    "version": 3
   },
   "file_extension": ".py",
   "mimetype": "text/x-python",
   "name": "python",
   "nbconvert_exporter": "python",
   "pygments_lexer": "ipython3",
   "version": "3.6.3"
  }
 },
 "nbformat": 4,
 "nbformat_minor": 2
}
